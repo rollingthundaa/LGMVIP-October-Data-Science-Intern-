{
  "nbformat": 4,
  "nbformat_minor": 0,
  "metadata": {
    "colab": {
      "name": "Beginner Level - Task 2 - Stock Market Prediction And Forecasting Using Stacked LSTM.ipynb",
      "provenance": [],
      "collapsed_sections": [],
      "authorship_tag": "ABX9TyNwK1usGkPdDoidCGnu2bWw",
      "include_colab_link": true
    },
    "kernelspec": {
      "name": "python3",
      "display_name": "Python 3"
    },
    "language_info": {
      "name": "python"
    }
  },
  "cells": [
    {
      "cell_type": "markdown",
      "metadata": {
        "id": "view-in-github",
        "colab_type": "text"
      },
      "source": [
        "<a href=\"https://colab.research.google.com/github/rollingthundaa/LGMVIP-October-Data-Science-Intern-/blob/main/Beginner%20Level%20Task%202%20-%20Stock%20Market%20Prediction%20And%20Forecasting%20Using%20Stacked%20LSTM/Beginner_Level_Task_2_Stock_Market_Prediction_And_Forecasting_Using_Stacked_LSTM.ipynb\" target=\"_parent\"><img src=\"https://colab.research.google.com/assets/colab-badge.svg\" alt=\"Open In Colab\"/></a>"
      ]
    },
    {
      "cell_type": "markdown",
      "metadata": {
        "id": "r4vu6WrDon2F"
      },
      "source": [
        "# **Devadyuti Sahoo - Data Science Intern at LetsGrowMore Virtual Internship Program (October-2021)**\n",
        "\n",
        "# **Beginner Level Task 2 - Stock Market Prediction And Forecasting Using Stacked LSTM**\n",
        "\n",
        "# **Algorithm Used - Stacked Long Short Term Memory**"
      ]
    },
    {
      "cell_type": "markdown",
      "metadata": {
        "id": "3EZBnaoqo7j9"
      },
      "source": [
        "**Import the required libraries**"
      ]
    },
    {
      "cell_type": "code",
      "metadata": {
        "id": "EUUwFUgnruI1"
      },
      "source": [
        "import pandas as pd #for analysis and manipulation of numerical tables"
      ],
      "execution_count": 33,
      "outputs": []
    },
    {
      "cell_type": "markdown",
      "metadata": {
        "id": "cmL3FZq7r17F"
      },
      "source": [
        "**Load the data**"
      ]
    },
    {
      "cell_type": "code",
      "metadata": {
        "id": "365Jfqner3xs"
      },
      "source": [
        "stock_data = pd.read_csv('/content/stock.csv')"
      ],
      "execution_count": 3,
      "outputs": []
    },
    {
      "cell_type": "code",
      "metadata": {
        "colab": {
          "base_uri": "https://localhost:8080/",
          "height": 204
        },
        "id": "7biaFcyVsFEE",
        "outputId": "a6c6df61-a635-4b05-e020-dda59b978cbd"
      },
      "source": [
        "stock_data.head()"
      ],
      "execution_count": 4,
      "outputs": [
        {
          "output_type": "execute_result",
          "data": {
            "text/html": [
              "<div>\n",
              "<style scoped>\n",
              "    .dataframe tbody tr th:only-of-type {\n",
              "        vertical-align: middle;\n",
              "    }\n",
              "\n",
              "    .dataframe tbody tr th {\n",
              "        vertical-align: top;\n",
              "    }\n",
              "\n",
              "    .dataframe thead th {\n",
              "        text-align: right;\n",
              "    }\n",
              "</style>\n",
              "<table border=\"1\" class=\"dataframe\">\n",
              "  <thead>\n",
              "    <tr style=\"text-align: right;\">\n",
              "      <th></th>\n",
              "      <th>Date</th>\n",
              "      <th>Open</th>\n",
              "      <th>High</th>\n",
              "      <th>Low</th>\n",
              "      <th>Last</th>\n",
              "      <th>Close</th>\n",
              "      <th>Total Trade Quantity</th>\n",
              "      <th>Turnover (Lacs)</th>\n",
              "    </tr>\n",
              "  </thead>\n",
              "  <tbody>\n",
              "    <tr>\n",
              "      <th>0</th>\n",
              "      <td>2018-09-28</td>\n",
              "      <td>234.05</td>\n",
              "      <td>235.95</td>\n",
              "      <td>230.20</td>\n",
              "      <td>233.50</td>\n",
              "      <td>233.75</td>\n",
              "      <td>3069914</td>\n",
              "      <td>7162.35</td>\n",
              "    </tr>\n",
              "    <tr>\n",
              "      <th>1</th>\n",
              "      <td>2018-09-27</td>\n",
              "      <td>234.55</td>\n",
              "      <td>236.80</td>\n",
              "      <td>231.10</td>\n",
              "      <td>233.80</td>\n",
              "      <td>233.25</td>\n",
              "      <td>5082859</td>\n",
              "      <td>11859.95</td>\n",
              "    </tr>\n",
              "    <tr>\n",
              "      <th>2</th>\n",
              "      <td>2018-09-26</td>\n",
              "      <td>240.00</td>\n",
              "      <td>240.00</td>\n",
              "      <td>232.50</td>\n",
              "      <td>235.00</td>\n",
              "      <td>234.25</td>\n",
              "      <td>2240909</td>\n",
              "      <td>5248.60</td>\n",
              "    </tr>\n",
              "    <tr>\n",
              "      <th>3</th>\n",
              "      <td>2018-09-25</td>\n",
              "      <td>233.30</td>\n",
              "      <td>236.75</td>\n",
              "      <td>232.00</td>\n",
              "      <td>236.25</td>\n",
              "      <td>236.10</td>\n",
              "      <td>2349368</td>\n",
              "      <td>5503.90</td>\n",
              "    </tr>\n",
              "    <tr>\n",
              "      <th>4</th>\n",
              "      <td>2018-09-24</td>\n",
              "      <td>233.55</td>\n",
              "      <td>239.20</td>\n",
              "      <td>230.75</td>\n",
              "      <td>234.00</td>\n",
              "      <td>233.30</td>\n",
              "      <td>3423509</td>\n",
              "      <td>7999.55</td>\n",
              "    </tr>\n",
              "  </tbody>\n",
              "</table>\n",
              "</div>"
            ],
            "text/plain": [
              "         Date    Open    High  ...   Close  Total Trade Quantity  Turnover (Lacs)\n",
              "0  2018-09-28  234.05  235.95  ...  233.75               3069914          7162.35\n",
              "1  2018-09-27  234.55  236.80  ...  233.25               5082859         11859.95\n",
              "2  2018-09-26  240.00  240.00  ...  234.25               2240909          5248.60\n",
              "3  2018-09-25  233.30  236.75  ...  236.10               2349368          5503.90\n",
              "4  2018-09-24  233.55  239.20  ...  233.30               3423509          7999.55\n",
              "\n",
              "[5 rows x 8 columns]"
            ]
          },
          "metadata": {},
          "execution_count": 4
        }
      ]
    },
    {
      "cell_type": "code",
      "metadata": {
        "colab": {
          "base_uri": "https://localhost:8080/"
        },
        "id": "bernoBMZsS69",
        "outputId": "9e7366e0-dcbe-4f98-9348-31c6aedd12eb"
      },
      "source": [
        "print(stock_data.isnull().sum())"
      ],
      "execution_count": 5,
      "outputs": [
        {
          "output_type": "stream",
          "name": "stdout",
          "text": [
            "Date                    0\n",
            "Open                    0\n",
            "High                    0\n",
            "Low                     0\n",
            "Last                    0\n",
            "Close                   0\n",
            "Total Trade Quantity    0\n",
            "Turnover (Lacs)         0\n",
            "dtype: int64\n"
          ]
        }
      ]
    },
    {
      "cell_type": "code",
      "metadata": {
        "colab": {
          "base_uri": "https://localhost:8080/",
          "height": 297
        },
        "id": "fZFWSAFJsZe0",
        "outputId": "c3efce5e-343e-43a8-babb-1d346ce626b2"
      },
      "source": [
        "stock_data.describe()"
      ],
      "execution_count": 6,
      "outputs": [
        {
          "output_type": "execute_result",
          "data": {
            "text/html": [
              "<div>\n",
              "<style scoped>\n",
              "    .dataframe tbody tr th:only-of-type {\n",
              "        vertical-align: middle;\n",
              "    }\n",
              "\n",
              "    .dataframe tbody tr th {\n",
              "        vertical-align: top;\n",
              "    }\n",
              "\n",
              "    .dataframe thead th {\n",
              "        text-align: right;\n",
              "    }\n",
              "</style>\n",
              "<table border=\"1\" class=\"dataframe\">\n",
              "  <thead>\n",
              "    <tr style=\"text-align: right;\">\n",
              "      <th></th>\n",
              "      <th>Open</th>\n",
              "      <th>High</th>\n",
              "      <th>Low</th>\n",
              "      <th>Last</th>\n",
              "      <th>Close</th>\n",
              "      <th>Total Trade Quantity</th>\n",
              "      <th>Turnover (Lacs)</th>\n",
              "    </tr>\n",
              "  </thead>\n",
              "  <tbody>\n",
              "    <tr>\n",
              "      <th>count</th>\n",
              "      <td>2035.000000</td>\n",
              "      <td>2035.000000</td>\n",
              "      <td>2035.000000</td>\n",
              "      <td>2035.000000</td>\n",
              "      <td>2035.00000</td>\n",
              "      <td>2.035000e+03</td>\n",
              "      <td>2035.000000</td>\n",
              "    </tr>\n",
              "    <tr>\n",
              "      <th>mean</th>\n",
              "      <td>149.713735</td>\n",
              "      <td>151.992826</td>\n",
              "      <td>147.293931</td>\n",
              "      <td>149.474251</td>\n",
              "      <td>149.45027</td>\n",
              "      <td>2.335681e+06</td>\n",
              "      <td>3899.980565</td>\n",
              "    </tr>\n",
              "    <tr>\n",
              "      <th>std</th>\n",
              "      <td>48.664509</td>\n",
              "      <td>49.413109</td>\n",
              "      <td>47.931958</td>\n",
              "      <td>48.732570</td>\n",
              "      <td>48.71204</td>\n",
              "      <td>2.091778e+06</td>\n",
              "      <td>4570.767877</td>\n",
              "    </tr>\n",
              "    <tr>\n",
              "      <th>min</th>\n",
              "      <td>81.100000</td>\n",
              "      <td>82.800000</td>\n",
              "      <td>80.000000</td>\n",
              "      <td>81.000000</td>\n",
              "      <td>80.95000</td>\n",
              "      <td>3.961000e+04</td>\n",
              "      <td>37.040000</td>\n",
              "    </tr>\n",
              "    <tr>\n",
              "      <th>25%</th>\n",
              "      <td>120.025000</td>\n",
              "      <td>122.100000</td>\n",
              "      <td>118.300000</td>\n",
              "      <td>120.075000</td>\n",
              "      <td>120.05000</td>\n",
              "      <td>1.146444e+06</td>\n",
              "      <td>1427.460000</td>\n",
              "    </tr>\n",
              "    <tr>\n",
              "      <th>50%</th>\n",
              "      <td>141.500000</td>\n",
              "      <td>143.400000</td>\n",
              "      <td>139.600000</td>\n",
              "      <td>141.100000</td>\n",
              "      <td>141.25000</td>\n",
              "      <td>1.783456e+06</td>\n",
              "      <td>2512.030000</td>\n",
              "    </tr>\n",
              "    <tr>\n",
              "      <th>75%</th>\n",
              "      <td>157.175000</td>\n",
              "      <td>159.400000</td>\n",
              "      <td>155.150000</td>\n",
              "      <td>156.925000</td>\n",
              "      <td>156.90000</td>\n",
              "      <td>2.813594e+06</td>\n",
              "      <td>4539.015000</td>\n",
              "    </tr>\n",
              "    <tr>\n",
              "      <th>max</th>\n",
              "      <td>327.700000</td>\n",
              "      <td>328.750000</td>\n",
              "      <td>321.650000</td>\n",
              "      <td>325.950000</td>\n",
              "      <td>325.75000</td>\n",
              "      <td>2.919102e+07</td>\n",
              "      <td>55755.080000</td>\n",
              "    </tr>\n",
              "  </tbody>\n",
              "</table>\n",
              "</div>"
            ],
            "text/plain": [
              "              Open         High  ...  Total Trade Quantity  Turnover (Lacs)\n",
              "count  2035.000000  2035.000000  ...          2.035000e+03      2035.000000\n",
              "mean    149.713735   151.992826  ...          2.335681e+06      3899.980565\n",
              "std      48.664509    49.413109  ...          2.091778e+06      4570.767877\n",
              "min      81.100000    82.800000  ...          3.961000e+04        37.040000\n",
              "25%     120.025000   122.100000  ...          1.146444e+06      1427.460000\n",
              "50%     141.500000   143.400000  ...          1.783456e+06      2512.030000\n",
              "75%     157.175000   159.400000  ...          2.813594e+06      4539.015000\n",
              "max     327.700000   328.750000  ...          2.919102e+07     55755.080000\n",
              "\n",
              "[8 rows x 7 columns]"
            ]
          },
          "metadata": {},
          "execution_count": 6
        }
      ]
    },
    {
      "cell_type": "code",
      "metadata": {
        "id": "2Dhh3poWtAnL"
      },
      "source": [
        "stock_data1 = stock_data.reset_index()['Close']"
      ],
      "execution_count": 7,
      "outputs": []
    },
    {
      "cell_type": "code",
      "metadata": {
        "colab": {
          "base_uri": "https://localhost:8080/"
        },
        "id": "U8IgSYwatSU3",
        "outputId": "5b9342c5-3a56-4f71-d49f-6475286f4b07"
      },
      "source": [
        "stock_data1.shape"
      ],
      "execution_count": 8,
      "outputs": [
        {
          "output_type": "execute_result",
          "data": {
            "text/plain": [
              "(2035,)"
            ]
          },
          "metadata": {},
          "execution_count": 8
        }
      ]
    },
    {
      "cell_type": "code",
      "metadata": {
        "colab": {
          "base_uri": "https://localhost:8080/"
        },
        "id": "idFb9TcQtcKt",
        "outputId": "bd1a32c9-fe12-4546-903b-ac01737a3fa1"
      },
      "source": [
        "stock_data1"
      ],
      "execution_count": 9,
      "outputs": [
        {
          "output_type": "execute_result",
          "data": {
            "text/plain": [
              "0       233.75\n",
              "1       233.25\n",
              "2       234.25\n",
              "3       236.10\n",
              "4       233.30\n",
              "         ...  \n",
              "2030    118.65\n",
              "2031    117.60\n",
              "2032    120.65\n",
              "2033    120.90\n",
              "2034    121.55\n",
              "Name: Close, Length: 2035, dtype: float64"
            ]
          },
          "metadata": {},
          "execution_count": 9
        }
      ]
    },
    {
      "cell_type": "markdown",
      "metadata": {
        "id": "IZCXaKIitmc8"
      },
      "source": [
        "**Plot the dataframe**"
      ]
    },
    {
      "cell_type": "code",
      "metadata": {
        "colab": {
          "base_uri": "https://localhost:8080/",
          "height": 282
        },
        "id": "M2dILNmptrE2",
        "outputId": "4184bb90-14a4-453a-a3b4-dcdf26d93c9c"
      },
      "source": [
        "import matplotlib.pyplot as plt\n",
        "plt.plot(stock_data1)"
      ],
      "execution_count": 10,
      "outputs": [
        {
          "output_type": "execute_result",
          "data": {
            "text/plain": [
              "[<matplotlib.lines.Line2D at 0x7fdfb6807cd0>]"
            ]
          },
          "metadata": {},
          "execution_count": 10
        },
        {
          "output_type": "display_data",
          "data": {
            "image/png": "[encoded data removed]",
            "text/plain": [
              "<Figure size 432x288 with 1 Axes>"
            ]
          },
          "metadata": {
            "needs_background": "light"
          }
        }
      ]
    },
    {
      "cell_type": "markdown",
      "metadata": {
        "id": "fpO1ZhHmt_iF"
      },
      "source": [
        "**Transform the data using MinMax Scaler**"
      ]
    },
    {
      "cell_type": "code",
      "metadata": {
        "id": "3Sr_qrBLuGWd"
      },
      "source": [
        "#We have to do this as LSTM is sensitive to the scale of the data\n",
        "import numpy as np\n",
        "from sklearn.preprocessing import MinMaxScaler\n",
        "scaler = MinMaxScaler(feature_range=(0,1))\n",
        "stock_data1 = scaler.fit_transform(np.array(stock_data1).reshape(-1,1))"
      ],
      "execution_count": 11,
      "outputs": []
    },
    {
      "cell_type": "code",
      "metadata": {
        "colab": {
          "base_uri": "https://localhost:8080/"
        },
        "id": "f-cm68QKuyus",
        "outputId": "b521cc2f-8aa0-4b23-dfed-d741d9d7f1ba"
      },
      "source": [
        "stock_data1 #array has been transformed into values ranging from 0 to 1"
      ],
      "execution_count": 12,
      "outputs": [
        {
          "output_type": "execute_result",
          "data": {
            "text/plain": [
              "array([[0.62418301],\n",
              "       [0.62214052],\n",
              "       [0.62622549],\n",
              "       ...,\n",
              "       [0.1621732 ],\n",
              "       [0.16319444],\n",
              "       [0.16584967]])"
            ]
          },
          "metadata": {},
          "execution_count": 12
        }
      ]
    },
    {
      "cell_type": "markdown",
      "metadata": {
        "id": "YjHz_hXWvZYu"
      },
      "source": [
        "**Split dataset into training and testing datasets**"
      ]
    },
    {
      "cell_type": "code",
      "metadata": {
        "id": "ZWcC4ck4vhUu"
      },
      "source": [
        "train_size = int(len(stock_data1)*0.65)\n",
        "test_size = len(stock_data1) - train_size\n",
        "train_data, test_data = stock_data1[0:train_size,:],stock_data1[train_size:len(stock_data1),:1]"
      ],
      "execution_count": 14,
      "outputs": []
    },
    {
      "cell_type": "markdown",
      "metadata": {
        "id": "nLTvdCw4yAFe"
      },
      "source": [
        "**Preprocess the data**"
      ]
    },
    {
      "cell_type": "code",
      "metadata": {
        "id": "KHoEHSUNyCjO"
      },
      "source": [
        "import numpy as np\n",
        "def create_dataset(dataset, time_step=1):\n",
        "  x, y = [],[]\n",
        "  for i in range(len(dataset)-time_step-1):\n",
        "    a=dataset[i:(i+time_step),0]\n",
        "    x.append(a)\n",
        "    y.append(dataset[i+time_step,0])\n",
        "  return np.array(x),np.array(y)"
      ],
      "execution_count": 15,
      "outputs": []
    },
    {
      "cell_type": "code",
      "metadata": {
        "id": "wtePwqKAzPQW"
      },
      "source": [
        "time_step = 100\n",
        "x_train, y_train = create_dataset(train_data, time_step)\n",
        "x_test, y_test = create_dataset(test_data, time_step)"
      ],
      "execution_count": 50,
      "outputs": []
    },
    {
      "cell_type": "code",
      "metadata": {
        "id": "Vio2T-uH0YIi"
      },
      "source": [
        "#reshaping input for LSTM\n",
        "x_train = x_train.reshape(x_train.shape[0], x_train.shape[1], 1)\n",
        "x_test = x_test.reshape(x_test.shape[0], x_test.shape[1], 1)"
      ],
      "execution_count": 51,
      "outputs": []
    },
    {
      "cell_type": "markdown",
      "metadata": {
        "id": "AJ8_nEL5026A"
      },
      "source": [
        "**Create the stacked LSTM Model**"
      ]
    },
    {
      "cell_type": "code",
      "metadata": {
        "id": "kP_7XmjH09b_"
      },
      "source": [
        "from tensorflow.keras.models import Sequential\n",
        "from tensorflow.keras.layers import Dense\n",
        "from tensorflow.keras.layers import LSTM"
      ],
      "execution_count": 44,
      "outputs": []
    },
    {
      "cell_type": "code",
      "metadata": {
        "id": "PlXmjku11a5v"
      },
      "source": [
        "model = Sequential()\n",
        "#adding layers\n",
        "model.add(LSTM(50,return_sequences=True,input_shape=(100,1)))\n",
        "model.add(LSTM(50,return_sequences=True))\n",
        "model.add(LSTM(50))\n",
        "model.add(Dense(1))\n",
        "model.compile(loss='mean_squared_error',optimizer='adam')"
      ],
      "execution_count": 52,
      "outputs": []
    },
    {
      "cell_type": "code",
      "metadata": {
        "colab": {
          "base_uri": "https://localhost:8080/"
        },
        "id": "_cpsg4Gk2FbH",
        "outputId": "25ee934b-70b0-4dbf-be7b-164dc2fe5f48"
      },
      "source": [
        "model.summary()"
      ],
      "execution_count": 53,
      "outputs": [
        {
          "output_type": "stream",
          "name": "stdout",
          "text": [
            "Model: \"sequential_3\"\n",
            "_________________________________________________________________\n",
            "Layer (type)                 Output Shape              Param #   \n",
            "=================================================================\n",
            "lstm_9 (LSTM)                (None, 100, 50)           10400     \n",
            "_________________________________________________________________\n",
            "lstm_10 (LSTM)               (None, 100, 50)           20200     \n",
            "_________________________________________________________________\n",
            "lstm_11 (LSTM)               (None, 50)                20200     \n",
            "_________________________________________________________________\n",
            "dense_3 (Dense)              (None, 1)                 51        \n",
            "=================================================================\n",
            "Total params: 50,851\n",
            "Trainable params: 50,851\n",
            "Non-trainable params: 0\n",
            "_________________________________________________________________\n"
          ]
        }
      ]
    },
    {
      "cell_type": "markdown",
      "metadata": {
        "id": "oQqbR6Pn2Six"
      },
      "source": [
        "**Fit the model**"
      ]
    },
    {
      "cell_type": "code",
      "metadata": {
        "colab": {
          "base_uri": "https://localhost:8080/"
        },
        "id": "w4mSWTvB2UHY",
        "outputId": "5c8cdfdc-3601-4214-ffb8-251c7537b924"
      },
      "source": [
        "model.fit(x_train,y_train,validation_data=(x_test,y_test),epochs=100,batch_size=64,verbose=1)"
      ],
      "execution_count": 54,
      "outputs": [
        {
          "output_type": "stream",
          "name": "stdout",
          "text": [
            "Epoch 1/100\n",
            "20/20 [==============================] - 10s 246ms/step - loss: 0.0249 - val_loss: 0.0047\n",
            "Epoch 2/100\n",
            "20/20 [==============================] - 4s 187ms/step - loss: 0.0030 - val_loss: 7.4643e-04\n",
            "Epoch 3/100\n",
            "20/20 [==============================] - 4s 185ms/step - loss: 0.0018 - val_loss: 9.6133e-04\n",
            "Epoch 4/100\n",
            "20/20 [==============================] - 4s 190ms/step - loss: 0.0015 - val_loss: 9.4819e-04\n",
            "Epoch 5/100\n",
            "20/20 [==============================] - 4s 190ms/step - loss: 0.0016 - val_loss: 9.2264e-04\n",
            "Epoch 6/100\n",
            "20/20 [==============================] - 4s 195ms/step - loss: 0.0013 - val_loss: 7.6672e-04\n",
            "Epoch 7/100\n",
            "20/20 [==============================] - 4s 191ms/step - loss: 0.0013 - val_loss: 9.7236e-04\n",
            "Epoch 8/100\n",
            "20/20 [==============================] - 4s 189ms/step - loss: 0.0012 - val_loss: 0.0011\n",
            "Epoch 9/100\n",
            "20/20 [==============================] - 4s 189ms/step - loss: 0.0017 - val_loss: 8.9526e-04\n",
            "Epoch 10/100\n",
            "20/20 [==============================] - 4s 189ms/step - loss: 0.0011 - val_loss: 7.0794e-04\n",
            "Epoch 11/100\n",
            "20/20 [==============================] - 4s 189ms/step - loss: 0.0016 - val_loss: 0.0010\n",
            "Epoch 12/100\n",
            "20/20 [==============================] - 4s 190ms/step - loss: 0.0011 - val_loss: 8.7730e-04\n",
            "Epoch 13/100\n",
            "20/20 [==============================] - 4s 189ms/step - loss: 0.0010 - val_loss: 7.4979e-04\n",
            "Epoch 14/100\n",
            "20/20 [==============================] - 4s 190ms/step - loss: 0.0011 - val_loss: 6.8882e-04\n",
            "Epoch 15/100\n",
            "20/20 [==============================] - 4s 189ms/step - loss: 0.0017 - val_loss: 8.2195e-04\n",
            "Epoch 16/100\n",
            "20/20 [==============================] - 4s 195ms/step - loss: 0.0013 - val_loss: 8.9428e-04\n",
            "Epoch 17/100\n",
            "20/20 [==============================] - 4s 191ms/step - loss: 8.7043e-04 - val_loss: 8.2644e-04\n",
            "Epoch 18/100\n",
            "20/20 [==============================] - 4s 191ms/step - loss: 8.1195e-04 - val_loss: 0.0015\n",
            "Epoch 19/100\n",
            "20/20 [==============================] - 4s 190ms/step - loss: 0.0011 - val_loss: 8.7473e-04\n",
            "Epoch 20/100\n",
            "20/20 [==============================] - 4s 192ms/step - loss: 7.9537e-04 - val_loss: 6.6803e-04\n",
            "Epoch 21/100\n",
            "20/20 [==============================] - 4s 187ms/step - loss: 7.5681e-04 - val_loss: 7.2170e-04\n",
            "Epoch 22/100\n",
            "20/20 [==============================] - 4s 186ms/step - loss: 7.4872e-04 - val_loss: 6.1359e-04\n",
            "Epoch 23/100\n",
            "20/20 [==============================] - 4s 191ms/step - loss: 7.0344e-04 - val_loss: 9.3494e-04\n",
            "Epoch 24/100\n",
            "20/20 [==============================] - 4s 195ms/step - loss: 6.8362e-04 - val_loss: 6.4252e-04\n",
            "Epoch 25/100\n",
            "20/20 [==============================] - 4s 197ms/step - loss: 6.8349e-04 - val_loss: 8.8385e-04\n",
            "Epoch 26/100\n",
            "20/20 [==============================] - 4s 195ms/step - loss: 6.7081e-04 - val_loss: 6.1903e-04\n",
            "Epoch 27/100\n",
            "20/20 [==============================] - 4s 191ms/step - loss: 6.4893e-04 - val_loss: 6.2559e-04\n",
            "Epoch 28/100\n",
            "20/20 [==============================] - 4s 189ms/step - loss: 6.9857e-04 - val_loss: 6.7284e-04\n",
            "Epoch 29/100\n",
            "20/20 [==============================] - 4s 191ms/step - loss: 6.3890e-04 - val_loss: 7.3327e-04\n",
            "Epoch 30/100\n",
            "20/20 [==============================] - 4s 190ms/step - loss: 6.9403e-04 - val_loss: 6.4445e-04\n",
            "Epoch 31/100\n",
            "20/20 [==============================] - 4s 194ms/step - loss: 7.4793e-04 - val_loss: 6.6404e-04\n",
            "Epoch 32/100\n",
            "20/20 [==============================] - 4s 190ms/step - loss: 7.6016e-04 - val_loss: 8.0785e-04\n",
            "Epoch 33/100\n",
            "20/20 [==============================] - 4s 188ms/step - loss: 6.1229e-04 - val_loss: 5.8612e-04\n",
            "Epoch 34/100\n",
            "20/20 [==============================] - 4s 191ms/step - loss: 5.6959e-04 - val_loss: 5.6383e-04\n",
            "Epoch 35/100\n",
            "20/20 [==============================] - 4s 191ms/step - loss: 6.0287e-04 - val_loss: 6.0738e-04\n",
            "Epoch 36/100\n",
            "20/20 [==============================] - 4s 187ms/step - loss: 6.5415e-04 - val_loss: 7.2455e-04\n",
            "Epoch 37/100\n",
            "20/20 [==============================] - 4s 188ms/step - loss: 6.1720e-04 - val_loss: 7.9552e-04\n",
            "Epoch 38/100\n",
            "20/20 [==============================] - 4s 188ms/step - loss: 5.4435e-04 - val_loss: 5.7921e-04\n",
            "Epoch 39/100\n",
            "20/20 [==============================] - 4s 188ms/step - loss: 5.1579e-04 - val_loss: 7.5902e-04\n",
            "Epoch 40/100\n",
            "20/20 [==============================] - 4s 191ms/step - loss: 5.2328e-04 - val_loss: 6.0993e-04\n",
            "Epoch 41/100\n",
            "20/20 [==============================] - 4s 191ms/step - loss: 5.3715e-04 - val_loss: 6.5332e-04\n",
            "Epoch 42/100\n",
            "20/20 [==============================] - 4s 188ms/step - loss: 5.4321e-04 - val_loss: 5.3937e-04\n",
            "Epoch 43/100\n",
            "20/20 [==============================] - 4s 193ms/step - loss: 5.0027e-04 - val_loss: 5.5859e-04\n",
            "Epoch 44/100\n",
            "20/20 [==============================] - 4s 195ms/step - loss: 5.1566e-04 - val_loss: 6.1791e-04\n",
            "Epoch 45/100\n",
            "20/20 [==============================] - 4s 197ms/step - loss: 4.7229e-04 - val_loss: 4.4996e-04\n",
            "Epoch 46/100\n",
            "20/20 [==============================] - 4s 197ms/step - loss: 4.8971e-04 - val_loss: 4.5203e-04\n",
            "Epoch 47/100\n",
            "20/20 [==============================] - 4s 200ms/step - loss: 4.6611e-04 - val_loss: 4.1381e-04\n",
            "Epoch 48/100\n",
            "20/20 [==============================] - 4s 191ms/step - loss: 4.7272e-04 - val_loss: 4.8451e-04\n",
            "Epoch 49/100\n",
            "20/20 [==============================] - 4s 193ms/step - loss: 4.5947e-04 - val_loss: 5.3764e-04\n",
            "Epoch 50/100\n",
            "20/20 [==============================] - 4s 189ms/step - loss: 4.3263e-04 - val_loss: 4.6322e-04\n",
            "Epoch 51/100\n",
            "20/20 [==============================] - 4s 191ms/step - loss: 4.2586e-04 - val_loss: 3.6297e-04\n",
            "Epoch 52/100\n",
            "20/20 [==============================] - 4s 191ms/step - loss: 4.5015e-04 - val_loss: 5.1279e-04\n",
            "Epoch 53/100\n",
            "20/20 [==============================] - 4s 192ms/step - loss: 4.2205e-04 - val_loss: 4.2623e-04\n",
            "Epoch 54/100\n",
            "20/20 [==============================] - 4s 191ms/step - loss: 4.1894e-04 - val_loss: 4.4988e-04\n",
            "Epoch 55/100\n",
            "20/20 [==============================] - 4s 192ms/step - loss: 3.9991e-04 - val_loss: 3.9965e-04\n",
            "Epoch 56/100\n",
            "20/20 [==============================] - 4s 190ms/step - loss: 4.1574e-04 - val_loss: 4.4232e-04\n",
            "Epoch 57/100\n",
            "20/20 [==============================] - 4s 190ms/step - loss: 3.9751e-04 - val_loss: 4.0215e-04\n",
            "Epoch 58/100\n",
            "20/20 [==============================] - 4s 195ms/step - loss: 3.6561e-04 - val_loss: 3.7472e-04\n",
            "Epoch 59/100\n",
            "20/20 [==============================] - 4s 192ms/step - loss: 3.9962e-04 - val_loss: 5.1632e-04\n",
            "Epoch 60/100\n",
            "20/20 [==============================] - 4s 191ms/step - loss: 3.6628e-04 - val_loss: 3.1686e-04\n",
            "Epoch 61/100\n",
            "20/20 [==============================] - 4s 192ms/step - loss: 4.7090e-04 - val_loss: 3.2622e-04\n",
            "Epoch 62/100\n",
            "20/20 [==============================] - 4s 193ms/step - loss: 3.6199e-04 - val_loss: 3.0622e-04\n",
            "Epoch 63/100\n",
            "20/20 [==============================] - 4s 193ms/step - loss: 4.1911e-04 - val_loss: 3.5729e-04\n",
            "Epoch 64/100\n",
            "20/20 [==============================] - 4s 191ms/step - loss: 3.2302e-04 - val_loss: 5.5915e-04\n",
            "Epoch 65/100\n",
            "20/20 [==============================] - 4s 190ms/step - loss: 4.6287e-04 - val_loss: 3.4892e-04\n",
            "Epoch 66/100\n",
            "20/20 [==============================] - 4s 193ms/step - loss: 3.2735e-04 - val_loss: 2.6740e-04\n",
            "Epoch 67/100\n",
            "20/20 [==============================] - 4s 192ms/step - loss: 3.2889e-04 - val_loss: 3.7799e-04\n",
            "Epoch 68/100\n",
            "20/20 [==============================] - 4s 193ms/step - loss: 2.9916e-04 - val_loss: 6.1173e-04\n",
            "Epoch 69/100\n",
            "20/20 [==============================] - 4s 195ms/step - loss: 6.4028e-04 - val_loss: 2.9707e-04\n",
            "Epoch 70/100\n",
            "20/20 [==============================] - 4s 188ms/step - loss: 3.6298e-04 - val_loss: 2.9532e-04\n",
            "Epoch 71/100\n",
            "20/20 [==============================] - 4s 189ms/step - loss: 2.9394e-04 - val_loss: 3.2486e-04\n",
            "Epoch 72/100\n",
            "20/20 [==============================] - 4s 191ms/step - loss: 2.8884e-04 - val_loss: 2.6805e-04\n",
            "Epoch 73/100\n",
            "20/20 [==============================] - 4s 188ms/step - loss: 2.6949e-04 - val_loss: 3.6947e-04\n",
            "Epoch 74/100\n",
            "20/20 [==============================] - 4s 193ms/step - loss: 2.7786e-04 - val_loss: 3.2880e-04\n",
            "Epoch 75/100\n",
            "20/20 [==============================] - 4s 189ms/step - loss: 2.5665e-04 - val_loss: 2.4699e-04\n",
            "Epoch 76/100\n",
            "20/20 [==============================] - 4s 187ms/step - loss: 3.4246e-04 - val_loss: 2.4719e-04\n",
            "Epoch 77/100\n",
            "20/20 [==============================] - 4s 192ms/step - loss: 3.6020e-04 - val_loss: 3.0856e-04\n",
            "Epoch 78/100\n",
            "20/20 [==============================] - 4s 189ms/step - loss: 3.0173e-04 - val_loss: 2.9186e-04\n",
            "Epoch 79/100\n",
            "20/20 [==============================] - 4s 189ms/step - loss: 2.6021e-04 - val_loss: 2.5685e-04\n",
            "Epoch 80/100\n",
            "20/20 [==============================] - 4s 190ms/step - loss: 2.3679e-04 - val_loss: 3.2523e-04\n",
            "Epoch 81/100\n",
            "20/20 [==============================] - 4s 188ms/step - loss: 2.5249e-04 - val_loss: 2.2821e-04\n",
            "Epoch 82/100\n",
            "20/20 [==============================] - 4s 189ms/step - loss: 2.3438e-04 - val_loss: 2.5814e-04\n",
            "Epoch 83/100\n",
            "20/20 [==============================] - 4s 190ms/step - loss: 2.4484e-04 - val_loss: 2.4302e-04\n",
            "Epoch 84/100\n",
            "20/20 [==============================] - 4s 189ms/step - loss: 2.5073e-04 - val_loss: 3.5067e-04\n",
            "Epoch 85/100\n",
            "20/20 [==============================] - 4s 188ms/step - loss: 4.0724e-04 - val_loss: 2.3624e-04\n",
            "Epoch 86/100\n",
            "20/20 [==============================] - 4s 187ms/step - loss: 2.8793e-04 - val_loss: 2.7169e-04\n",
            "Epoch 87/100\n",
            "20/20 [==============================] - 4s 192ms/step - loss: 2.2803e-04 - val_loss: 2.6306e-04\n",
            "Epoch 88/100\n",
            "20/20 [==============================] - 4s 189ms/step - loss: 2.3550e-04 - val_loss: 2.1999e-04\n",
            "Epoch 89/100\n",
            "20/20 [==============================] - 4s 188ms/step - loss: 2.3579e-04 - val_loss: 2.3248e-04\n",
            "Epoch 90/100\n",
            "20/20 [==============================] - 4s 192ms/step - loss: 2.7688e-04 - val_loss: 2.2831e-04\n",
            "Epoch 91/100\n",
            "20/20 [==============================] - 4s 187ms/step - loss: 2.2137e-04 - val_loss: 2.6622e-04\n",
            "Epoch 92/100\n",
            "20/20 [==============================] - 4s 187ms/step - loss: 2.5949e-04 - val_loss: 2.1567e-04\n",
            "Epoch 93/100\n",
            "20/20 [==============================] - 4s 188ms/step - loss: 2.4634e-04 - val_loss: 2.5490e-04\n",
            "Epoch 94/100\n",
            "20/20 [==============================] - 4s 188ms/step - loss: 3.2302e-04 - val_loss: 1.9962e-04\n",
            "Epoch 95/100\n",
            "20/20 [==============================] - 4s 189ms/step - loss: 3.0849e-04 - val_loss: 1.8551e-04\n",
            "Epoch 96/100\n",
            "20/20 [==============================] - 4s 188ms/step - loss: 2.2749e-04 - val_loss: 1.9020e-04\n",
            "Epoch 97/100\n",
            "20/20 [==============================] - 4s 189ms/step - loss: 2.1048e-04 - val_loss: 2.5588e-04\n",
            "Epoch 98/100\n",
            "20/20 [==============================] - 4s 184ms/step - loss: 2.3658e-04 - val_loss: 1.9711e-04\n",
            "Epoch 99/100\n",
            "20/20 [==============================] - 4s 188ms/step - loss: 2.3444e-04 - val_loss: 3.6157e-04\n",
            "Epoch 100/100\n",
            "20/20 [==============================] - 4s 187ms/step - loss: 2.9131e-04 - val_loss: 2.7044e-04\n"
          ]
        },
        {
          "output_type": "execute_result",
          "data": {
            "text/plain": [
              "<keras.callbacks.History at 0x7fdf52232850>"
            ]
          },
          "metadata": {},
          "execution_count": 54
        }
      ]
    },
    {
      "cell_type": "markdown",
      "metadata": {
        "id": "AuuaV-v49yLh"
      },
      "source": [
        "**Generate Predictions**"
      ]
    },
    {
      "cell_type": "code",
      "metadata": {
        "id": "BznweYWa92l6"
      },
      "source": [
        "import tensorflow as tf #importing the tensorflow library to predict\n",
        "train_prediction = model.predict(x_train)\n",
        "test_prediction = model.predict(x_test)"
      ],
      "execution_count": 22,
      "outputs": []
    },
    {
      "cell_type": "markdown",
      "metadata": {
        "id": "UQOzbXw9-TPm"
      },
      "source": [
        "**Transform back to original form using reverse scaling**"
      ]
    },
    {
      "cell_type": "code",
      "metadata": {
        "id": "5J9rOVNC-kS5"
      },
      "source": [
        "train_prediction = scaler.inverse_transform(train_prediction)\n",
        "test_prediction = scaler.inverse_transform(test_prediction)"
      ],
      "execution_count": 23,
      "outputs": []
    },
    {
      "cell_type": "markdown",
      "metadata": {
        "id": "YGKiJrPV_I1f"
      },
      "source": [
        "**Calculate RMSE (Root Mean Square Error)**"
      ]
    },
    {
      "cell_type": "code",
      "metadata": {
        "colab": {
          "base_uri": "https://localhost:8080/"
        },
        "id": "H3kS-OkWlBLQ",
        "outputId": "9cac3035-f824-4d4f-c787-e4921446810d"
      },
      "source": [
        "import math\n",
        "from sklearn.metrics import mean_squared_error\n",
        "math.sqrt(mean_squared_error(y_train,train_prediction)) #for training data\n"
      ],
      "execution_count": 24,
      "outputs": [
        {
          "output_type": "execute_result",
          "data": {
            "text/plain": [
              "166.16905079219876"
            ]
          },
          "metadata": {},
          "execution_count": 24
        }
      ]
    },
    {
      "cell_type": "code",
      "metadata": {
        "colab": {
          "base_uri": "https://localhost:8080/"
        },
        "id": "aNp1QRjNmnR0",
        "outputId": "0e8fcdb8-f989-455b-abf5-03f903253e0e"
      },
      "source": [
        "math.sqrt(mean_squared_error(y_test,test_prediction)) #for testing data"
      ],
      "execution_count": 25,
      "outputs": [
        {
          "output_type": "execute_result",
          "data": {
            "text/plain": [
              "116.68550925240346"
            ]
          },
          "metadata": {},
          "execution_count": 25
        }
      ]
    },
    {
      "cell_type": "markdown",
      "metadata": {
        "id": "5k3epyKCpTUU"
      },
      "source": [
        "**Shift predictions for plotting**"
      ]
    },
    {
      "cell_type": "code",
      "metadata": {
        "id": "ae1sTHjBpZJ3"
      },
      "source": [
        "look_back=100\n",
        "trainPredictionPlot = np.empty_like(stock_data1) #shifting training predictions\n",
        "trainPredictionPlot[:, :] = np.nan\n",
        "trainPredictionPlot[look_back:len(train_prediction)+look_back, :] = train_prediction\n",
        "testPredictionPlot = np.empty_like(stock_data1) #shifting test predictions\n",
        "testPredictionPlot[:, :] = np.nan\n",
        "testPredictionPlot[len(train_prediction)+(look_back*2)+1:len(stock_data1)-1, :] = test_prediction"
      ],
      "execution_count": 26,
      "outputs": []
    },
    {
      "cell_type": "code",
      "metadata": {
        "colab": {
          "base_uri": "https://localhost:8080/",
          "height": 265
        },
        "id": "HOCGkpL8qPEr",
        "outputId": "f219d4a5-b63b-4a2d-f399-3d5a784b4be6"
      },
      "source": [
        "plt.plot(scaler.inverse_transform(stock_data1))\n",
        "plt.plot(trainPredictionPlot)\n",
        "plt.plot(testPredictionPlot)\n",
        "plt.show()"
      ],
      "execution_count": 27,
      "outputs": [
        {
          "output_type": "display_data",
          "data": {
            "image/png": "[encoded data removed]",
            "text/plain": [
              "<Figure size 432x288 with 1 Axes>"
            ]
          },
          "metadata": {
            "needs_background": "light"
          }
        }
      ]
    },
    {
      "cell_type": "code",
      "metadata": {
        "colab": {
          "base_uri": "https://localhost:8080/"
        },
        "id": "bAQfanshCSVs",
        "outputId": "574cbdc3-208e-4939-e30d-5190da7f70f5"
      },
      "source": [
        "len(test_data)"
      ],
      "execution_count": 36,
      "outputs": [
        {
          "output_type": "execute_result",
          "data": {
            "text/plain": [
              "713"
            ]
          },
          "metadata": {},
          "execution_count": 36
        }
      ]
    },
    {
      "cell_type": "code",
      "metadata": {
        "colab": {
          "base_uri": "https://localhost:8080/"
        },
        "id": "pBzPfMEoq9ID",
        "outputId": "56297b81-6d59-4ed5-c7df-f8f1a6c063d3"
      },
      "source": [
        "x_input=test_data[613:].reshape(1,-1)\n",
        "x_input.shape"
      ],
      "execution_count": 28,
      "outputs": [
        {
          "output_type": "execute_result",
          "data": {
            "text/plain": [
              "(1, 100)"
            ]
          },
          "metadata": {},
          "execution_count": 28
        }
      ]
    },
    {
      "cell_type": "code",
      "metadata": {
        "id": "g9V90L6_r08F"
      },
      "source": [
        "temp_input=list(x_input)\n",
        "temp_input=temp_input[0].tolist()"
      ],
      "execution_count": 29,
      "outputs": []
    },
    {
      "cell_type": "markdown",
      "metadata": {
        "id": "5U_SF-aLr64H"
      },
      "source": [
        "**Prediction for next 30 days**"
      ]
    },
    {
      "cell_type": "code",
      "metadata": {
        "colab": {
          "base_uri": "https://localhost:8080/"
        },
        "id": "rECkxTWQu3GH",
        "outputId": "6a98527a-ec52-4d07-adc1-52760e11aa27"
      },
      "source": [
        "from numpy import array\n",
        "\n",
        "final_output=[]\n",
        "n_steps=100\n",
        "i=1\n",
        "while(i<=30):\n",
        "    \n",
        "    if(len(temp_input)>100):\n",
        "        x_input=np.array(temp_input[1:])\n",
        "        print(\"{} day input {}\".format(i,x_input))\n",
        "        x_input=x_input.reshape(1,-1)\n",
        "        x_input = x_input.reshape((1, n_steps, 1))\n",
        "        ypred = model.predict(x_input, verbose=0)\n",
        "        print(\"{} day output {}\".format(i,ypred))\n",
        "        temp_input.extend(ypred[0].tolist())\n",
        "        temp_input=temp_input[1:]\n",
        "        final_output.extend(ypred.tolist())\n",
        "        i=i+1\n",
        "    else:\n",
        "        x_input = x_input.reshape((1, n_steps,1))\n",
        "        ypred = model.predict(x_input, verbose=0)\n",
        "        print(ypred[0])\n",
        "        temp_input.extend(ypred[0].tolist())\n",
        "        print(len(temp_input))\n",
        "        final_output.extend(ypred.tolist())\n",
        "        i=i+1\n",
        "    \n",
        "\n",
        "print(final_output)"
      ],
      "execution_count": 55,
      "outputs": [
        {
          "output_type": "stream",
          "name": "stdout",
          "text": [
            "1 day input [0.21913634 0.21970294 0.22025846 0.22080313 0.22133715 0.22186081\n",
            " 0.22237433 0.2228779  0.22337183 0.22385623 0.22433148 0.22479761\n",
            " 0.22525491 0.2257036  0.22614381 0.22657576 0.22699966 0.22741558\n",
            " 0.22782378 0.22822446 0.22861767 0.22900361 0.22938243 0.22975422\n",
            " 0.23011926 0.23047751 0.23082922 0.2311745  0.23151341 0.2318462\n",
            " 0.23217285 0.23249359 0.23280843 0.2331176  0.2334211  0.2337191\n",
            " 0.23401171 0.234299   0.23458113 0.23485808 0.23513006 0.23539716\n",
            " 0.23565935 0.23591685 0.2361697  0.23641805 0.2366619  0.23690137\n",
            " 0.23713653 0.23736751 0.23759435 0.23781706 0.23803586 0.2382507\n",
            " 0.23846178 0.23866905 0.23887256 0.23907247 0.23926887 0.23946173\n",
            " 0.23965117 0.23983726 0.2400201  0.24019961 0.24037594 0.24054916\n",
            " 0.24071933 0.24088648 0.24105069 0.24121197 0.24121197 0.24121197\n",
            " 0.24121197 0.24121197 0.24121197 0.24121197 0.24121197 0.24121197\n",
            " 0.24121197 0.24121197 0.24121197 0.24121197 0.24121197 0.24121197\n",
            " 0.24121197 0.24121197 0.24121197 0.24121197 0.24121197 0.24121197\n",
            " 0.24121197 0.24121197 0.24121197 0.24121197 0.24121197 0.24121197\n",
            " 0.24121197 0.24121197 0.24121197 0.24121197]\n",
            "1 day output [[0.24523483]]\n",
            "2 day input [0.21970294 0.22025846 0.22080313 0.22133715 0.22186081 0.22237433\n",
            " 0.2228779  0.22337183 0.22385623 0.22433148 0.22479761 0.22525491\n",
            " 0.2257036  0.22614381 0.22657576 0.22699966 0.22741558 0.22782378\n",
            " 0.22822446 0.22861767 0.22900361 0.22938243 0.22975422 0.23011926\n",
            " 0.23047751 0.23082922 0.2311745  0.23151341 0.2318462  0.23217285\n",
            " 0.23249359 0.23280843 0.2331176  0.2334211  0.2337191  0.23401171\n",
            " 0.234299   0.23458113 0.23485808 0.23513006 0.23539716 0.23565935\n",
            " 0.23591685 0.2361697  0.23641805 0.2366619  0.23690137 0.23713653\n",
            " 0.23736751 0.23759435 0.23781706 0.23803586 0.2382507  0.23846178\n",
            " 0.23866905 0.23887256 0.23907247 0.23926887 0.23946173 0.23965117\n",
            " 0.23983726 0.2400201  0.24019961 0.24037594 0.24054916 0.24071933\n",
            " 0.24088648 0.24105069 0.24121197 0.24121197 0.24121197 0.24121197\n",
            " 0.24121197 0.24121197 0.24121197 0.24121197 0.24121197 0.24121197\n",
            " 0.24121197 0.24121197 0.24121197 0.24121197 0.24121197 0.24121197\n",
            " 0.24121197 0.24121197 0.24121197 0.24121197 0.24121197 0.24121197\n",
            " 0.24121197 0.24121197 0.24121197 0.24121197 0.24121197 0.24121197\n",
            " 0.24121197 0.24121197 0.24121197 0.24523483]\n",
            "2 day output [[0.24718572]]\n",
            "3 day input [0.22025846 0.22080313 0.22133715 0.22186081 0.22237433 0.2228779\n",
            " 0.22337183 0.22385623 0.22433148 0.22479761 0.22525491 0.2257036\n",
            " 0.22614381 0.22657576 0.22699966 0.22741558 0.22782378 0.22822446\n",
            " 0.22861767 0.22900361 0.22938243 0.22975422 0.23011926 0.23047751\n",
            " 0.23082922 0.2311745  0.23151341 0.2318462  0.23217285 0.23249359\n",
            " 0.23280843 0.2331176  0.2334211  0.2337191  0.23401171 0.234299\n",
            " 0.23458113 0.23485808 0.23513006 0.23539716 0.23565935 0.23591685\n",
            " 0.2361697  0.23641805 0.2366619  0.23690137 0.23713653 0.23736751\n",
            " 0.23759435 0.23781706 0.23803586 0.2382507  0.23846178 0.23866905\n",
            " 0.23887256 0.23907247 0.23926887 0.23946173 0.23965117 0.23983726\n",
            " 0.2400201  0.24019961 0.24037594 0.24054916 0.24071933 0.24088648\n",
            " 0.24105069 0.24121197 0.24121197 0.24121197 0.24121197 0.24121197\n",
            " 0.24121197 0.24121197 0.24121197 0.24121197 0.24121197 0.24121197\n",
            " 0.24121197 0.24121197 0.24121197 0.24121197 0.24121197 0.24121197\n",
            " 0.24121197 0.24121197 0.24121197 0.24121197 0.24121197 0.24121197\n",
            " 0.24121197 0.24121197 0.24121197 0.24121197 0.24121197 0.24121197\n",
            " 0.24121197 0.24121197 0.24523483 0.24718572]\n",
            "3 day output [[0.24972102]]\n",
            "4 day input [0.22080313 0.22133715 0.22186081 0.22237433 0.2228779  0.22337183\n",
            " 0.22385623 0.22433148 0.22479761 0.22525491 0.2257036  0.22614381\n",
            " 0.22657576 0.22699966 0.22741558 0.22782378 0.22822446 0.22861767\n",
            " 0.22900361 0.22938243 0.22975422 0.23011926 0.23047751 0.23082922\n",
            " 0.2311745  0.23151341 0.2318462  0.23217285 0.23249359 0.23280843\n",
            " 0.2331176  0.2334211  0.2337191  0.23401171 0.234299   0.23458113\n",
            " 0.23485808 0.23513006 0.23539716 0.23565935 0.23591685 0.2361697\n",
            " 0.23641805 0.2366619  0.23690137 0.23713653 0.23736751 0.23759435\n",
            " 0.23781706 0.23803586 0.2382507  0.23846178 0.23866905 0.23887256\n",
            " 0.23907247 0.23926887 0.23946173 0.23965117 0.23983726 0.2400201\n",
            " 0.24019961 0.24037594 0.24054916 0.24071933 0.24088648 0.24105069\n",
            " 0.24121197 0.24121197 0.24121197 0.24121197 0.24121197 0.24121197\n",
            " 0.24121197 0.24121197 0.24121197 0.24121197 0.24121197 0.24121197\n",
            " 0.24121197 0.24121197 0.24121197 0.24121197 0.24121197 0.24121197\n",
            " 0.24121197 0.24121197 0.24121197 0.24121197 0.24121197 0.24121197\n",
            " 0.24121197 0.24121197 0.24121197 0.24121197 0.24121197 0.24121197\n",
            " 0.24121197 0.24523483 0.24718572 0.24972102]\n",
            "4 day output [[0.25230625]]\n",
            "5 day input [0.22133715 0.22186081 0.22237433 0.2228779  0.22337183 0.22385623\n",
            " 0.22433148 0.22479761 0.22525491 0.2257036  0.22614381 0.22657576\n",
            " 0.22699966 0.22741558 0.22782378 0.22822446 0.22861767 0.22900361\n",
            " 0.22938243 0.22975422 0.23011926 0.23047751 0.23082922 0.2311745\n",
            " 0.23151341 0.2318462  0.23217285 0.23249359 0.23280843 0.2331176\n",
            " 0.2334211  0.2337191  0.23401171 0.234299   0.23458113 0.23485808\n",
            " 0.23513006 0.23539716 0.23565935 0.23591685 0.2361697  0.23641805\n",
            " 0.2366619  0.23690137 0.23713653 0.23736751 0.23759435 0.23781706\n",
            " 0.23803586 0.2382507  0.23846178 0.23866905 0.23887256 0.23907247\n",
            " 0.23926887 0.23946173 0.23965117 0.23983726 0.2400201  0.24019961\n",
            " 0.24037594 0.24054916 0.24071933 0.24088648 0.24105069 0.24121197\n",
            " 0.24121197 0.24121197 0.24121197 0.24121197 0.24121197 0.24121197\n",
            " 0.24121197 0.24121197 0.24121197 0.24121197 0.24121197 0.24121197\n",
            " 0.24121197 0.24121197 0.24121197 0.24121197 0.24121197 0.24121197\n",
            " 0.24121197 0.24121197 0.24121197 0.24121197 0.24121197 0.24121197\n",
            " 0.24121197 0.24121197 0.24121197 0.24121197 0.24121197 0.24121197\n",
            " 0.24523483 0.24718572 0.24972102 0.25230625]\n",
            "5 day output [[0.25480756]]\n",
            "6 day input [0.22186081 0.22237433 0.2228779  0.22337183 0.22385623 0.22433148\n",
            " 0.22479761 0.22525491 0.2257036  0.22614381 0.22657576 0.22699966\n",
            " 0.22741558 0.22782378 0.22822446 0.22861767 0.22900361 0.22938243\n",
            " 0.22975422 0.23011926 0.23047751 0.23082922 0.2311745  0.23151341\n",
            " 0.2318462  0.23217285 0.23249359 0.23280843 0.2331176  0.2334211\n",
            " 0.2337191  0.23401171 0.234299   0.23458113 0.23485808 0.23513006\n",
            " 0.23539716 0.23565935 0.23591685 0.2361697  0.23641805 0.2366619\n",
            " 0.23690137 0.23713653 0.23736751 0.23759435 0.23781706 0.23803586\n",
            " 0.2382507  0.23846178 0.23866905 0.23887256 0.23907247 0.23926887\n",
            " 0.23946173 0.23965117 0.23983726 0.2400201  0.24019961 0.24037594\n",
            " 0.24054916 0.24071933 0.24088648 0.24105069 0.24121197 0.24121197\n",
            " 0.24121197 0.24121197 0.24121197 0.24121197 0.24121197 0.24121197\n",
            " 0.24121197 0.24121197 0.24121197 0.24121197 0.24121197 0.24121197\n",
            " 0.24121197 0.24121197 0.24121197 0.24121197 0.24121197 0.24121197\n",
            " 0.24121197 0.24121197 0.24121197 0.24121197 0.24121197 0.24121197\n",
            " 0.24121197 0.24121197 0.24121197 0.24121197 0.24121197 0.24523483\n",
            " 0.24718572 0.24972102 0.25230625 0.25480756]\n",
            "6 day output [[0.25719455]]\n",
            "7 day input [0.22237433 0.2228779  0.22337183 0.22385623 0.22433148 0.22479761\n",
            " 0.22525491 0.2257036  0.22614381 0.22657576 0.22699966 0.22741558\n",
            " 0.22782378 0.22822446 0.22861767 0.22900361 0.22938243 0.22975422\n",
            " 0.23011926 0.23047751 0.23082922 0.2311745  0.23151341 0.2318462\n",
            " 0.23217285 0.23249359 0.23280843 0.2331176  0.2334211  0.2337191\n",
            " 0.23401171 0.234299   0.23458113 0.23485808 0.23513006 0.23539716\n",
            " 0.23565935 0.23591685 0.2361697  0.23641805 0.2366619  0.23690137\n",
            " 0.23713653 0.23736751 0.23759435 0.23781706 0.23803586 0.2382507\n",
            " 0.23846178 0.23866905 0.23887256 0.23907247 0.23926887 0.23946173\n",
            " 0.23965117 0.23983726 0.2400201  0.24019961 0.24037594 0.24054916\n",
            " 0.24071933 0.24088648 0.24105069 0.24121197 0.24121197 0.24121197\n",
            " 0.24121197 0.24121197 0.24121197 0.24121197 0.24121197 0.24121197\n",
            " 0.24121197 0.24121197 0.24121197 0.24121197 0.24121197 0.24121197\n",
            " 0.24121197 0.24121197 0.24121197 0.24121197 0.24121197 0.24121197\n",
            " 0.24121197 0.24121197 0.24121197 0.24121197 0.24121197 0.24121197\n",
            " 0.24121197 0.24121197 0.24121197 0.24121197 0.24523483 0.24718572\n",
            " 0.24972102 0.25230625 0.25480756 0.25719455]\n",
            "7 day output [[0.25946546]]\n",
            "8 day input [0.2228779  0.22337183 0.22385623 0.22433148 0.22479761 0.22525491\n",
            " 0.2257036  0.22614381 0.22657576 0.22699966 0.22741558 0.22782378\n",
            " 0.22822446 0.22861767 0.22900361 0.22938243 0.22975422 0.23011926\n",
            " 0.23047751 0.23082922 0.2311745  0.23151341 0.2318462  0.23217285\n",
            " 0.23249359 0.23280843 0.2331176  0.2334211  0.2337191  0.23401171\n",
            " 0.234299   0.23458113 0.23485808 0.23513006 0.23539716 0.23565935\n",
            " 0.23591685 0.2361697  0.23641805 0.2366619  0.23690137 0.23713653\n",
            " 0.23736751 0.23759435 0.23781706 0.23803586 0.2382507  0.23846178\n",
            " 0.23866905 0.23887256 0.23907247 0.23926887 0.23946173 0.23965117\n",
            " 0.23983726 0.2400201  0.24019961 0.24037594 0.24054916 0.24071933\n",
            " 0.24088648 0.24105069 0.24121197 0.24121197 0.24121197 0.24121197\n",
            " 0.24121197 0.24121197 0.24121197 0.24121197 0.24121197 0.24121197\n",
            " 0.24121197 0.24121197 0.24121197 0.24121197 0.24121197 0.24121197\n",
            " 0.24121197 0.24121197 0.24121197 0.24121197 0.24121197 0.24121197\n",
            " 0.24121197 0.24121197 0.24121197 0.24121197 0.24121197 0.24121197\n",
            " 0.24121197 0.24121197 0.24121197 0.24523483 0.24718572 0.24972102\n",
            " 0.25230625 0.25480756 0.25719455 0.25946546]\n",
            "8 day output [[0.26163116]]\n",
            "9 day input [0.22337183 0.22385623 0.22433148 0.22479761 0.22525491 0.2257036\n",
            " 0.22614381 0.22657576 0.22699966 0.22741558 0.22782378 0.22822446\n",
            " 0.22861767 0.22900361 0.22938243 0.22975422 0.23011926 0.23047751\n",
            " 0.23082922 0.2311745  0.23151341 0.2318462  0.23217285 0.23249359\n",
            " 0.23280843 0.2331176  0.2334211  0.2337191  0.23401171 0.234299\n",
            " 0.23458113 0.23485808 0.23513006 0.23539716 0.23565935 0.23591685\n",
            " 0.2361697  0.23641805 0.2366619  0.23690137 0.23713653 0.23736751\n",
            " 0.23759435 0.23781706 0.23803586 0.2382507  0.23846178 0.23866905\n",
            " 0.23887256 0.23907247 0.23926887 0.23946173 0.23965117 0.23983726\n",
            " 0.2400201  0.24019961 0.24037594 0.24054916 0.24071933 0.24088648\n",
            " 0.24105069 0.24121197 0.24121197 0.24121197 0.24121197 0.24121197\n",
            " 0.24121197 0.24121197 0.24121197 0.24121197 0.24121197 0.24121197\n",
            " 0.24121197 0.24121197 0.24121197 0.24121197 0.24121197 0.24121197\n",
            " 0.24121197 0.24121197 0.24121197 0.24121197 0.24121197 0.24121197\n",
            " 0.24121197 0.24121197 0.24121197 0.24121197 0.24121197 0.24121197\n",
            " 0.24121197 0.24121197 0.24523483 0.24718572 0.24972102 0.25230625\n",
            " 0.25480756 0.25719455 0.25946546 0.26163116]\n",
            "9 day output [[0.26370755]]\n",
            "10 day input [0.22385623 0.22433148 0.22479761 0.22525491 0.2257036  0.22614381\n",
            " 0.22657576 0.22699966 0.22741558 0.22782378 0.22822446 0.22861767\n",
            " 0.22900361 0.22938243 0.22975422 0.23011926 0.23047751 0.23082922\n",
            " 0.2311745  0.23151341 0.2318462  0.23217285 0.23249359 0.23280843\n",
            " 0.2331176  0.2334211  0.2337191  0.23401171 0.234299   0.23458113\n",
            " 0.23485808 0.23513006 0.23539716 0.23565935 0.23591685 0.2361697\n",
            " 0.23641805 0.2366619  0.23690137 0.23713653 0.23736751 0.23759435\n",
            " 0.23781706 0.23803586 0.2382507  0.23846178 0.23866905 0.23887256\n",
            " 0.23907247 0.23926887 0.23946173 0.23965117 0.23983726 0.2400201\n",
            " 0.24019961 0.24037594 0.24054916 0.24071933 0.24088648 0.24105069\n",
            " 0.24121197 0.24121197 0.24121197 0.24121197 0.24121197 0.24121197\n",
            " 0.24121197 0.24121197 0.24121197 0.24121197 0.24121197 0.24121197\n",
            " 0.24121197 0.24121197 0.24121197 0.24121197 0.24121197 0.24121197\n",
            " 0.24121197 0.24121197 0.24121197 0.24121197 0.24121197 0.24121197\n",
            " 0.24121197 0.24121197 0.24121197 0.24121197 0.24121197 0.24121197\n",
            " 0.24121197 0.24523483 0.24718572 0.24972102 0.25230625 0.25480756\n",
            " 0.25719455 0.25946546 0.26163116 0.26370755]\n",
            "10 day output [[0.26571047]]\n",
            "11 day input [0.22433148 0.22479761 0.22525491 0.2257036  0.22614381 0.22657576\n",
            " 0.22699966 0.22741558 0.22782378 0.22822446 0.22861767 0.22900361\n",
            " 0.22938243 0.22975422 0.23011926 0.23047751 0.23082922 0.2311745\n",
            " 0.23151341 0.2318462  0.23217285 0.23249359 0.23280843 0.2331176\n",
            " 0.2334211  0.2337191  0.23401171 0.234299   0.23458113 0.23485808\n",
            " 0.23513006 0.23539716 0.23565935 0.23591685 0.2361697  0.23641805\n",
            " 0.2366619  0.23690137 0.23713653 0.23736751 0.23759435 0.23781706\n",
            " 0.23803586 0.2382507  0.23846178 0.23866905 0.23887256 0.23907247\n",
            " 0.23926887 0.23946173 0.23965117 0.23983726 0.2400201  0.24019961\n",
            " 0.24037594 0.24054916 0.24071933 0.24088648 0.24105069 0.24121197\n",
            " 0.24121197 0.24121197 0.24121197 0.24121197 0.24121197 0.24121197\n",
            " 0.24121197 0.24121197 0.24121197 0.24121197 0.24121197 0.24121197\n",
            " 0.24121197 0.24121197 0.24121197 0.24121197 0.24121197 0.24121197\n",
            " 0.24121197 0.24121197 0.24121197 0.24121197 0.24121197 0.24121197\n",
            " 0.24121197 0.24121197 0.24121197 0.24121197 0.24121197 0.24121197\n",
            " 0.24523483 0.24718572 0.24972102 0.25230625 0.25480756 0.25719455\n",
            " 0.25946546 0.26163116 0.26370755 0.26571047]\n",
            "11 day output [[0.26765215]]\n",
            "12 day input [0.22479761 0.22525491 0.2257036  0.22614381 0.22657576 0.22699966\n",
            " 0.22741558 0.22782378 0.22822446 0.22861767 0.22900361 0.22938243\n",
            " 0.22975422 0.23011926 0.23047751 0.23082922 0.2311745  0.23151341\n",
            " 0.2318462  0.23217285 0.23249359 0.23280843 0.2331176  0.2334211\n",
            " 0.2337191  0.23401171 0.234299   0.23458113 0.23485808 0.23513006\n",
            " 0.23539716 0.23565935 0.23591685 0.2361697  0.23641805 0.2366619\n",
            " 0.23690137 0.23713653 0.23736751 0.23759435 0.23781706 0.23803586\n",
            " 0.2382507  0.23846178 0.23866905 0.23887256 0.23907247 0.23926887\n",
            " 0.23946173 0.23965117 0.23983726 0.2400201  0.24019961 0.24037594\n",
            " 0.24054916 0.24071933 0.24088648 0.24105069 0.24121197 0.24121197\n",
            " 0.24121197 0.24121197 0.24121197 0.24121197 0.24121197 0.24121197\n",
            " 0.24121197 0.24121197 0.24121197 0.24121197 0.24121197 0.24121197\n",
            " 0.24121197 0.24121197 0.24121197 0.24121197 0.24121197 0.24121197\n",
            " 0.24121197 0.24121197 0.24121197 0.24121197 0.24121197 0.24121197\n",
            " 0.24121197 0.24121197 0.24121197 0.24121197 0.24121197 0.24523483\n",
            " 0.24718572 0.24972102 0.25230625 0.25480756 0.25719455 0.25946546\n",
            " 0.26163116 0.26370755 0.26571047 0.26765215]\n",
            "12 day output [[0.26954046]]\n",
            "13 day input [0.22525491 0.2257036  0.22614381 0.22657576 0.22699966 0.22741558\n",
            " 0.22782378 0.22822446 0.22861767 0.22900361 0.22938243 0.22975422\n",
            " 0.23011926 0.23047751 0.23082922 0.2311745  0.23151341 0.2318462\n",
            " 0.23217285 0.23249359 0.23280843 0.2331176  0.2334211  0.2337191\n",
            " 0.23401171 0.234299   0.23458113 0.23485808 0.23513006 0.23539716\n",
            " 0.23565935 0.23591685 0.2361697  0.23641805 0.2366619  0.23690137\n",
            " 0.23713653 0.23736751 0.23759435 0.23781706 0.23803586 0.2382507\n",
            " 0.23846178 0.23866905 0.23887256 0.23907247 0.23926887 0.23946173\n",
            " 0.23965117 0.23983726 0.2400201  0.24019961 0.24037594 0.24054916\n",
            " 0.24071933 0.24088648 0.24105069 0.24121197 0.24121197 0.24121197\n",
            " 0.24121197 0.24121197 0.24121197 0.24121197 0.24121197 0.24121197\n",
            " 0.24121197 0.24121197 0.24121197 0.24121197 0.24121197 0.24121197\n",
            " 0.24121197 0.24121197 0.24121197 0.24121197 0.24121197 0.24121197\n",
            " 0.24121197 0.24121197 0.24121197 0.24121197 0.24121197 0.24121197\n",
            " 0.24121197 0.24121197 0.24121197 0.24121197 0.24523483 0.24718572\n",
            " 0.24972102 0.25230625 0.25480756 0.25719455 0.25946546 0.26163116\n",
            " 0.26370755 0.26571047 0.26765215 0.26954046]\n",
            "13 day output [[0.2713791]]\n",
            "14 day input [0.2257036  0.22614381 0.22657576 0.22699966 0.22741558 0.22782378\n",
            " 0.22822446 0.22861767 0.22900361 0.22938243 0.22975422 0.23011926\n",
            " 0.23047751 0.23082922 0.2311745  0.23151341 0.2318462  0.23217285\n",
            " 0.23249359 0.23280843 0.2331176  0.2334211  0.2337191  0.23401171\n",
            " 0.234299   0.23458113 0.23485808 0.23513006 0.23539716 0.23565935\n",
            " 0.23591685 0.2361697  0.23641805 0.2366619  0.23690137 0.23713653\n",
            " 0.23736751 0.23759435 0.23781706 0.23803586 0.2382507  0.23846178\n",
            " 0.23866905 0.23887256 0.23907247 0.23926887 0.23946173 0.23965117\n",
            " 0.23983726 0.2400201  0.24019961 0.24037594 0.24054916 0.24071933\n",
            " 0.24088648 0.24105069 0.24121197 0.24121197 0.24121197 0.24121197\n",
            " 0.24121197 0.24121197 0.24121197 0.24121197 0.24121197 0.24121197\n",
            " 0.24121197 0.24121197 0.24121197 0.24121197 0.24121197 0.24121197\n",
            " 0.24121197 0.24121197 0.24121197 0.24121197 0.24121197 0.24121197\n",
            " 0.24121197 0.24121197 0.24121197 0.24121197 0.24121197 0.24121197\n",
            " 0.24121197 0.24121197 0.24121197 0.24523483 0.24718572 0.24972102\n",
            " 0.25230625 0.25480756 0.25719455 0.25946546 0.26163116 0.26370755\n",
            " 0.26571047 0.26765215 0.26954046 0.27137911]\n",
            "14 day output [[0.27316925]]\n",
            "15 day input [0.22614381 0.22657576 0.22699966 0.22741558 0.22782378 0.22822446\n",
            " 0.22861767 0.22900361 0.22938243 0.22975422 0.23011926 0.23047751\n",
            " 0.23082922 0.2311745  0.23151341 0.2318462  0.23217285 0.23249359\n",
            " 0.23280843 0.2331176  0.2334211  0.2337191  0.23401171 0.234299\n",
            " 0.23458113 0.23485808 0.23513006 0.23539716 0.23565935 0.23591685\n",
            " 0.2361697  0.23641805 0.2366619  0.23690137 0.23713653 0.23736751\n",
            " 0.23759435 0.23781706 0.23803586 0.2382507  0.23846178 0.23866905\n",
            " 0.23887256 0.23907247 0.23926887 0.23946173 0.23965117 0.23983726\n",
            " 0.2400201  0.24019961 0.24037594 0.24054916 0.24071933 0.24088648\n",
            " 0.24105069 0.24121197 0.24121197 0.24121197 0.24121197 0.24121197\n",
            " 0.24121197 0.24121197 0.24121197 0.24121197 0.24121197 0.24121197\n",
            " 0.24121197 0.24121197 0.24121197 0.24121197 0.24121197 0.24121197\n",
            " 0.24121197 0.24121197 0.24121197 0.24121197 0.24121197 0.24121197\n",
            " 0.24121197 0.24121197 0.24121197 0.24121197 0.24121197 0.24121197\n",
            " 0.24121197 0.24121197 0.24523483 0.24718572 0.24972102 0.25230625\n",
            " 0.25480756 0.25719455 0.25946546 0.26163116 0.26370755 0.26571047\n",
            " 0.26765215 0.26954046 0.27137911 0.27316925]\n",
            "15 day output [[0.2749103]]\n",
            "16 day input [0.22657576 0.22699966 0.22741558 0.22782378 0.22822446 0.22861767\n",
            " 0.22900361 0.22938243 0.22975422 0.23011926 0.23047751 0.23082922\n",
            " 0.2311745  0.23151341 0.2318462  0.23217285 0.23249359 0.23280843\n",
            " 0.2331176  0.2334211  0.2337191  0.23401171 0.234299   0.23458113\n",
            " 0.23485808 0.23513006 0.23539716 0.23565935 0.23591685 0.2361697\n",
            " 0.23641805 0.2366619  0.23690137 0.23713653 0.23736751 0.23759435\n",
            " 0.23781706 0.23803586 0.2382507  0.23846178 0.23866905 0.23887256\n",
            " 0.23907247 0.23926887 0.23946173 0.23965117 0.23983726 0.2400201\n",
            " 0.24019961 0.24037594 0.24054916 0.24071933 0.24088648 0.24105069\n",
            " 0.24121197 0.24121197 0.24121197 0.24121197 0.24121197 0.24121197\n",
            " 0.24121197 0.24121197 0.24121197 0.24121197 0.24121197 0.24121197\n",
            " 0.24121197 0.24121197 0.24121197 0.24121197 0.24121197 0.24121197\n",
            " 0.24121197 0.24121197 0.24121197 0.24121197 0.24121197 0.24121197\n",
            " 0.24121197 0.24121197 0.24121197 0.24121197 0.24121197 0.24121197\n",
            " 0.24121197 0.24523483 0.24718572 0.24972102 0.25230625 0.25480756\n",
            " 0.25719455 0.25946546 0.26163116 0.26370755 0.26571047 0.26765215\n",
            " 0.26954046 0.27137911 0.27316925 0.2749103 ]\n",
            "16 day output [[0.27660176]]\n",
            "17 day input [0.22699966 0.22741558 0.22782378 0.22822446 0.22861767 0.22900361\n",
            " 0.22938243 0.22975422 0.23011926 0.23047751 0.23082922 0.2311745\n",
            " 0.23151341 0.2318462  0.23217285 0.23249359 0.23280843 0.2331176\n",
            " 0.2334211  0.2337191  0.23401171 0.234299   0.23458113 0.23485808\n",
            " 0.23513006 0.23539716 0.23565935 0.23591685 0.2361697  0.23641805\n",
            " 0.2366619  0.23690137 0.23713653 0.23736751 0.23759435 0.23781706\n",
            " 0.23803586 0.2382507  0.23846178 0.23866905 0.23887256 0.23907247\n",
            " 0.23926887 0.23946173 0.23965117 0.23983726 0.2400201  0.24019961\n",
            " 0.24037594 0.24054916 0.24071933 0.24088648 0.24105069 0.24121197\n",
            " 0.24121197 0.24121197 0.24121197 0.24121197 0.24121197 0.24121197\n",
            " 0.24121197 0.24121197 0.24121197 0.24121197 0.24121197 0.24121197\n",
            " 0.24121197 0.24121197 0.24121197 0.24121197 0.24121197 0.24121197\n",
            " 0.24121197 0.24121197 0.24121197 0.24121197 0.24121197 0.24121197\n",
            " 0.24121197 0.24121197 0.24121197 0.24121197 0.24121197 0.24121197\n",
            " 0.24523483 0.24718572 0.24972102 0.25230625 0.25480756 0.25719455\n",
            " 0.25946546 0.26163116 0.26370755 0.26571047 0.26765215 0.26954046\n",
            " 0.27137911 0.27316925 0.2749103  0.27660176]\n",
            "17 day output [[0.2782437]]\n",
            "18 day input [0.22741558 0.22782378 0.22822446 0.22861767 0.22900361 0.22938243\n",
            " 0.22975422 0.23011926 0.23047751 0.23082922 0.2311745  0.23151341\n",
            " 0.2318462  0.23217285 0.23249359 0.23280843 0.2331176  0.2334211\n",
            " 0.2337191  0.23401171 0.234299   0.23458113 0.23485808 0.23513006\n",
            " 0.23539716 0.23565935 0.23591685 0.2361697  0.23641805 0.2366619\n",
            " 0.23690137 0.23713653 0.23736751 0.23759435 0.23781706 0.23803586\n",
            " 0.2382507  0.23846178 0.23866905 0.23887256 0.23907247 0.23926887\n",
            " 0.23946173 0.23965117 0.23983726 0.2400201  0.24019961 0.24037594\n",
            " 0.24054916 0.24071933 0.24088648 0.24105069 0.24121197 0.24121197\n",
            " 0.24121197 0.24121197 0.24121197 0.24121197 0.24121197 0.24121197\n",
            " 0.24121197 0.24121197 0.24121197 0.24121197 0.24121197 0.24121197\n",
            " 0.24121197 0.24121197 0.24121197 0.24121197 0.24121197 0.24121197\n",
            " 0.24121197 0.24121197 0.24121197 0.24121197 0.24121197 0.24121197\n",
            " 0.24121197 0.24121197 0.24121197 0.24121197 0.24121197 0.24523483\n",
            " 0.24718572 0.24972102 0.25230625 0.25480756 0.25719455 0.25946546\n",
            " 0.26163116 0.26370755 0.26571047 0.26765215 0.26954046 0.27137911\n",
            " 0.27316925 0.2749103  0.27660176 0.27824369]\n",
            "18 day output [[0.27983695]]\n",
            "19 day input [0.22782378 0.22822446 0.22861767 0.22900361 0.22938243 0.22975422\n",
            " 0.23011926 0.23047751 0.23082922 0.2311745  0.23151341 0.2318462\n",
            " 0.23217285 0.23249359 0.23280843 0.2331176  0.2334211  0.2337191\n",
            " 0.23401171 0.234299   0.23458113 0.23485808 0.23513006 0.23539716\n",
            " 0.23565935 0.23591685 0.2361697  0.23641805 0.2366619  0.23690137\n",
            " 0.23713653 0.23736751 0.23759435 0.23781706 0.23803586 0.2382507\n",
            " 0.23846178 0.23866905 0.23887256 0.23907247 0.23926887 0.23946173\n",
            " 0.23965117 0.23983726 0.2400201  0.24019961 0.24037594 0.24054916\n",
            " 0.24071933 0.24088648 0.24105069 0.24121197 0.24121197 0.24121197\n",
            " 0.24121197 0.24121197 0.24121197 0.24121197 0.24121197 0.24121197\n",
            " 0.24121197 0.24121197 0.24121197 0.24121197 0.24121197 0.24121197\n",
            " 0.24121197 0.24121197 0.24121197 0.24121197 0.24121197 0.24121197\n",
            " 0.24121197 0.24121197 0.24121197 0.24121197 0.24121197 0.24121197\n",
            " 0.24121197 0.24121197 0.24121197 0.24121197 0.24523483 0.24718572\n",
            " 0.24972102 0.25230625 0.25480756 0.25719455 0.25946546 0.26163116\n",
            " 0.26370755 0.26571047 0.26765215 0.26954046 0.27137911 0.27316925\n",
            " 0.2749103  0.27660176 0.27824369 0.27983695]\n",
            "19 day output [[0.2813839]]\n",
            "20 day input [0.22822446 0.22861767 0.22900361 0.22938243 0.22975422 0.23011926\n",
            " 0.23047751 0.23082922 0.2311745  0.23151341 0.2318462  0.23217285\n",
            " 0.23249359 0.23280843 0.2331176  0.2334211  0.2337191  0.23401171\n",
            " 0.234299   0.23458113 0.23485808 0.23513006 0.23539716 0.23565935\n",
            " 0.23591685 0.2361697  0.23641805 0.2366619  0.23690137 0.23713653\n",
            " 0.23736751 0.23759435 0.23781706 0.23803586 0.2382507  0.23846178\n",
            " 0.23866905 0.23887256 0.23907247 0.23926887 0.23946173 0.23965117\n",
            " 0.23983726 0.2400201  0.24019961 0.24037594 0.24054916 0.24071933\n",
            " 0.24088648 0.24105069 0.24121197 0.24121197 0.24121197 0.24121197\n",
            " 0.24121197 0.24121197 0.24121197 0.24121197 0.24121197 0.24121197\n",
            " 0.24121197 0.24121197 0.24121197 0.24121197 0.24121197 0.24121197\n",
            " 0.24121197 0.24121197 0.24121197 0.24121197 0.24121197 0.24121197\n",
            " 0.24121197 0.24121197 0.24121197 0.24121197 0.24121197 0.24121197\n",
            " 0.24121197 0.24121197 0.24121197 0.24523483 0.24718572 0.24972102\n",
            " 0.25230625 0.25480756 0.25719455 0.25946546 0.26163116 0.26370755\n",
            " 0.26571047 0.26765215 0.26954046 0.27137911 0.27316925 0.2749103\n",
            " 0.27660176 0.27824369 0.27983695 0.2813839 ]\n",
            "20 day output [[0.28288767]]\n",
            "21 day input [0.22861767 0.22900361 0.22938243 0.22975422 0.23011926 0.23047751\n",
            " 0.23082922 0.2311745  0.23151341 0.2318462  0.23217285 0.23249359\n",
            " 0.23280843 0.2331176  0.2334211  0.2337191  0.23401171 0.234299\n",
            " 0.23458113 0.23485808 0.23513006 0.23539716 0.23565935 0.23591685\n",
            " 0.2361697  0.23641805 0.2366619  0.23690137 0.23713653 0.23736751\n",
            " 0.23759435 0.23781706 0.23803586 0.2382507  0.23846178 0.23866905\n",
            " 0.23887256 0.23907247 0.23926887 0.23946173 0.23965117 0.23983726\n",
            " 0.2400201  0.24019961 0.24037594 0.24054916 0.24071933 0.24088648\n",
            " 0.24105069 0.24121197 0.24121197 0.24121197 0.24121197 0.24121197\n",
            " 0.24121197 0.24121197 0.24121197 0.24121197 0.24121197 0.24121197\n",
            " 0.24121197 0.24121197 0.24121197 0.24121197 0.24121197 0.24121197\n",
            " 0.24121197 0.24121197 0.24121197 0.24121197 0.24121197 0.24121197\n",
            " 0.24121197 0.24121197 0.24121197 0.24121197 0.24121197 0.24121197\n",
            " 0.24121197 0.24121197 0.24523483 0.24718572 0.24972102 0.25230625\n",
            " 0.25480756 0.25719455 0.25946546 0.26163116 0.26370755 0.26571047\n",
            " 0.26765215 0.26954046 0.27137911 0.27316925 0.2749103  0.27660176\n",
            " 0.27824369 0.27983695 0.2813839  0.28288767]\n",
            "21 day output [[0.28435212]]\n",
            "22 day input [0.22900361 0.22938243 0.22975422 0.23011926 0.23047751 0.23082922\n",
            " 0.2311745  0.23151341 0.2318462  0.23217285 0.23249359 0.23280843\n",
            " 0.2331176  0.2334211  0.2337191  0.23401171 0.234299   0.23458113\n",
            " 0.23485808 0.23513006 0.23539716 0.23565935 0.23591685 0.2361697\n",
            " 0.23641805 0.2366619  0.23690137 0.23713653 0.23736751 0.23759435\n",
            " 0.23781706 0.23803586 0.2382507  0.23846178 0.23866905 0.23887256\n",
            " 0.23907247 0.23926887 0.23946173 0.23965117 0.23983726 0.2400201\n",
            " 0.24019961 0.24037594 0.24054916 0.24071933 0.24088648 0.24105069\n",
            " 0.24121197 0.24121197 0.24121197 0.24121197 0.24121197 0.24121197\n",
            " 0.24121197 0.24121197 0.24121197 0.24121197 0.24121197 0.24121197\n",
            " 0.24121197 0.24121197 0.24121197 0.24121197 0.24121197 0.24121197\n",
            " 0.24121197 0.24121197 0.24121197 0.24121197 0.24121197 0.24121197\n",
            " 0.24121197 0.24121197 0.24121197 0.24121197 0.24121197 0.24121197\n",
            " 0.24121197 0.24523483 0.24718572 0.24972102 0.25230625 0.25480756\n",
            " 0.25719455 0.25946546 0.26163116 0.26370755 0.26571047 0.26765215\n",
            " 0.26954046 0.27137911 0.27316925 0.2749103  0.27660176 0.27824369\n",
            " 0.27983695 0.2813839  0.28288767 0.28435212]\n",
            "22 day output [[0.2857815]]\n",
            "23 day input [0.22938243 0.22975422 0.23011926 0.23047751 0.23082922 0.2311745\n",
            " 0.23151341 0.2318462  0.23217285 0.23249359 0.23280843 0.2331176\n",
            " 0.2334211  0.2337191  0.23401171 0.234299   0.23458113 0.23485808\n",
            " 0.23513006 0.23539716 0.23565935 0.23591685 0.2361697  0.23641805\n",
            " 0.2366619  0.23690137 0.23713653 0.23736751 0.23759435 0.23781706\n",
            " 0.23803586 0.2382507  0.23846178 0.23866905 0.23887256 0.23907247\n",
            " 0.23926887 0.23946173 0.23965117 0.23983726 0.2400201  0.24019961\n",
            " 0.24037594 0.24054916 0.24071933 0.24088648 0.24105069 0.24121197\n",
            " 0.24121197 0.24121197 0.24121197 0.24121197 0.24121197 0.24121197\n",
            " 0.24121197 0.24121197 0.24121197 0.24121197 0.24121197 0.24121197\n",
            " 0.24121197 0.24121197 0.24121197 0.24121197 0.24121197 0.24121197\n",
            " 0.24121197 0.24121197 0.24121197 0.24121197 0.24121197 0.24121197\n",
            " 0.24121197 0.24121197 0.24121197 0.24121197 0.24121197 0.24121197\n",
            " 0.24523483 0.24718572 0.24972102 0.25230625 0.25480756 0.25719455\n",
            " 0.25946546 0.26163116 0.26370755 0.26571047 0.26765215 0.26954046\n",
            " 0.27137911 0.27316925 0.2749103  0.27660176 0.27824369 0.27983695\n",
            " 0.2813839  0.28288767 0.28435212 0.2857815 ]\n",
            "23 day output [[0.28717998]]\n",
            "24 day input [0.22975422 0.23011926 0.23047751 0.23082922 0.2311745  0.23151341\n",
            " 0.2318462  0.23217285 0.23249359 0.23280843 0.2331176  0.2334211\n",
            " 0.2337191  0.23401171 0.234299   0.23458113 0.23485808 0.23513006\n",
            " 0.23539716 0.23565935 0.23591685 0.2361697  0.23641805 0.2366619\n",
            " 0.23690137 0.23713653 0.23736751 0.23759435 0.23781706 0.23803586\n",
            " 0.2382507  0.23846178 0.23866905 0.23887256 0.23907247 0.23926887\n",
            " 0.23946173 0.23965117 0.23983726 0.2400201  0.24019961 0.24037594\n",
            " 0.24054916 0.24071933 0.24088648 0.24105069 0.24121197 0.24121197\n",
            " 0.24121197 0.24121197 0.24121197 0.24121197 0.24121197 0.24121197\n",
            " 0.24121197 0.24121197 0.24121197 0.24121197 0.24121197 0.24121197\n",
            " 0.24121197 0.24121197 0.24121197 0.24121197 0.24121197 0.24121197\n",
            " 0.24121197 0.24121197 0.24121197 0.24121197 0.24121197 0.24121197\n",
            " 0.24121197 0.24121197 0.24121197 0.24121197 0.24121197 0.24523483\n",
            " 0.24718572 0.24972102 0.25230625 0.25480756 0.25719455 0.25946546\n",
            " 0.26163116 0.26370755 0.26571047 0.26765215 0.26954046 0.27137911\n",
            " 0.27316925 0.2749103  0.27660176 0.27824369 0.27983695 0.2813839\n",
            " 0.28288767 0.28435212 0.2857815  0.28717998]\n",
            "24 day output [[0.28855172]]\n",
            "25 day input [0.23011926 0.23047751 0.23082922 0.2311745  0.23151341 0.2318462\n",
            " 0.23217285 0.23249359 0.23280843 0.2331176  0.2334211  0.2337191\n",
            " 0.23401171 0.234299   0.23458113 0.23485808 0.23513006 0.23539716\n",
            " 0.23565935 0.23591685 0.2361697  0.23641805 0.2366619  0.23690137\n",
            " 0.23713653 0.23736751 0.23759435 0.23781706 0.23803586 0.2382507\n",
            " 0.23846178 0.23866905 0.23887256 0.23907247 0.23926887 0.23946173\n",
            " 0.23965117 0.23983726 0.2400201  0.24019961 0.24037594 0.24054916\n",
            " 0.24071933 0.24088648 0.24105069 0.24121197 0.24121197 0.24121197\n",
            " 0.24121197 0.24121197 0.24121197 0.24121197 0.24121197 0.24121197\n",
            " 0.24121197 0.24121197 0.24121197 0.24121197 0.24121197 0.24121197\n",
            " 0.24121197 0.24121197 0.24121197 0.24121197 0.24121197 0.24121197\n",
            " 0.24121197 0.24121197 0.24121197 0.24121197 0.24121197 0.24121197\n",
            " 0.24121197 0.24121197 0.24121197 0.24121197 0.24523483 0.24718572\n",
            " 0.24972102 0.25230625 0.25480756 0.25719455 0.25946546 0.26163116\n",
            " 0.26370755 0.26571047 0.26765215 0.26954046 0.27137911 0.27316925\n",
            " 0.2749103  0.27660176 0.27824369 0.27983695 0.2813839  0.28288767\n",
            " 0.28435212 0.2857815  0.28717998 0.28855172]\n",
            "25 day output [[0.28990054]]\n",
            "26 day input [0.23047751 0.23082922 0.2311745  0.23151341 0.2318462  0.23217285\n",
            " 0.23249359 0.23280843 0.2331176  0.2334211  0.2337191  0.23401171\n",
            " 0.234299   0.23458113 0.23485808 0.23513006 0.23539716 0.23565935\n",
            " 0.23591685 0.2361697  0.23641805 0.2366619  0.23690137 0.23713653\n",
            " 0.23736751 0.23759435 0.23781706 0.23803586 0.2382507  0.23846178\n",
            " 0.23866905 0.23887256 0.23907247 0.23926887 0.23946173 0.23965117\n",
            " 0.23983726 0.2400201  0.24019961 0.24037594 0.24054916 0.24071933\n",
            " 0.24088648 0.24105069 0.24121197 0.24121197 0.24121197 0.24121197\n",
            " 0.24121197 0.24121197 0.24121197 0.24121197 0.24121197 0.24121197\n",
            " 0.24121197 0.24121197 0.24121197 0.24121197 0.24121197 0.24121197\n",
            " 0.24121197 0.24121197 0.24121197 0.24121197 0.24121197 0.24121197\n",
            " 0.24121197 0.24121197 0.24121197 0.24121197 0.24121197 0.24121197\n",
            " 0.24121197 0.24121197 0.24121197 0.24523483 0.24718572 0.24972102\n",
            " 0.25230625 0.25480756 0.25719455 0.25946546 0.26163116 0.26370755\n",
            " 0.26571047 0.26765215 0.26954046 0.27137911 0.27316925 0.2749103\n",
            " 0.27660176 0.27824369 0.27983695 0.2813839  0.28288767 0.28435212\n",
            " 0.2857815  0.28717998 0.28855172 0.28990054]\n",
            "26 day output [[0.2912297]]\n",
            "27 day input [0.23082922 0.2311745  0.23151341 0.2318462  0.23217285 0.23249359\n",
            " 0.23280843 0.2331176  0.2334211  0.2337191  0.23401171 0.234299\n",
            " 0.23458113 0.23485808 0.23513006 0.23539716 0.23565935 0.23591685\n",
            " 0.2361697  0.23641805 0.2366619  0.23690137 0.23713653 0.23736751\n",
            " 0.23759435 0.23781706 0.23803586 0.2382507  0.23846178 0.23866905\n",
            " 0.23887256 0.23907247 0.23926887 0.23946173 0.23965117 0.23983726\n",
            " 0.2400201  0.24019961 0.24037594 0.24054916 0.24071933 0.24088648\n",
            " 0.24105069 0.24121197 0.24121197 0.24121197 0.24121197 0.24121197\n",
            " 0.24121197 0.24121197 0.24121197 0.24121197 0.24121197 0.24121197\n",
            " 0.24121197 0.24121197 0.24121197 0.24121197 0.24121197 0.24121197\n",
            " 0.24121197 0.24121197 0.24121197 0.24121197 0.24121197 0.24121197\n",
            " 0.24121197 0.24121197 0.24121197 0.24121197 0.24121197 0.24121197\n",
            " 0.24121197 0.24121197 0.24523483 0.24718572 0.24972102 0.25230625\n",
            " 0.25480756 0.25719455 0.25946546 0.26163116 0.26370755 0.26571047\n",
            " 0.26765215 0.26954046 0.27137911 0.27316925 0.2749103  0.27660176\n",
            " 0.27824369 0.27983695 0.2813839  0.28288767 0.28435212 0.2857815\n",
            " 0.28717998 0.28855172 0.28990054 0.2912297 ]\n",
            "27 day output [[0.29254216]]\n",
            "28 day input [0.2311745  0.23151341 0.2318462  0.23217285 0.23249359 0.23280843\n",
            " 0.2331176  0.2334211  0.2337191  0.23401171 0.234299   0.23458113\n",
            " 0.23485808 0.23513006 0.23539716 0.23565935 0.23591685 0.2361697\n",
            " 0.23641805 0.2366619  0.23690137 0.23713653 0.23736751 0.23759435\n",
            " 0.23781706 0.23803586 0.2382507  0.23846178 0.23866905 0.23887256\n",
            " 0.23907247 0.23926887 0.23946173 0.23965117 0.23983726 0.2400201\n",
            " 0.24019961 0.24037594 0.24054916 0.24071933 0.24088648 0.24105069\n",
            " 0.24121197 0.24121197 0.24121197 0.24121197 0.24121197 0.24121197\n",
            " 0.24121197 0.24121197 0.24121197 0.24121197 0.24121197 0.24121197\n",
            " 0.24121197 0.24121197 0.24121197 0.24121197 0.24121197 0.24121197\n",
            " 0.24121197 0.24121197 0.24121197 0.24121197 0.24121197 0.24121197\n",
            " 0.24121197 0.24121197 0.24121197 0.24121197 0.24121197 0.24121197\n",
            " 0.24121197 0.24523483 0.24718572 0.24972102 0.25230625 0.25480756\n",
            " 0.25719455 0.25946546 0.26163116 0.26370755 0.26571047 0.26765215\n",
            " 0.26954046 0.27137911 0.27316925 0.2749103  0.27660176 0.27824369\n",
            " 0.27983695 0.2813839  0.28288767 0.28435212 0.2857815  0.28717998\n",
            " 0.28855172 0.28990054 0.2912297  0.29254216]\n",
            "28 day output [[0.29384047]]\n",
            "29 day input [0.23151341 0.2318462  0.23217285 0.23249359 0.23280843 0.2331176\n",
            " 0.2334211  0.2337191  0.23401171 0.234299   0.23458113 0.23485808\n",
            " 0.23513006 0.23539716 0.23565935 0.23591685 0.2361697  0.23641805\n",
            " 0.2366619  0.23690137 0.23713653 0.23736751 0.23759435 0.23781706\n",
            " 0.23803586 0.2382507  0.23846178 0.23866905 0.23887256 0.23907247\n",
            " 0.23926887 0.23946173 0.23965117 0.23983726 0.2400201  0.24019961\n",
            " 0.24037594 0.24054916 0.24071933 0.24088648 0.24105069 0.24121197\n",
            " 0.24121197 0.24121197 0.24121197 0.24121197 0.24121197 0.24121197\n",
            " 0.24121197 0.24121197 0.24121197 0.24121197 0.24121197 0.24121197\n",
            " 0.24121197 0.24121197 0.24121197 0.24121197 0.24121197 0.24121197\n",
            " 0.24121197 0.24121197 0.24121197 0.24121197 0.24121197 0.24121197\n",
            " 0.24121197 0.24121197 0.24121197 0.24121197 0.24121197 0.24121197\n",
            " 0.24523483 0.24718572 0.24972102 0.25230625 0.25480756 0.25719455\n",
            " 0.25946546 0.26163116 0.26370755 0.26571047 0.26765215 0.26954046\n",
            " 0.27137911 0.27316925 0.2749103  0.27660176 0.27824369 0.27983695\n",
            " 0.2813839  0.28288767 0.28435212 0.2857815  0.28717998 0.28855172\n",
            " 0.28990054 0.2912297  0.29254216 0.29384047]\n",
            "29 day output [[0.29512674]]\n",
            "30 day input [0.2318462  0.23217285 0.23249359 0.23280843 0.2331176  0.2334211\n",
            " 0.2337191  0.23401171 0.234299   0.23458113 0.23485808 0.23513006\n",
            " 0.23539716 0.23565935 0.23591685 0.2361697  0.23641805 0.2366619\n",
            " 0.23690137 0.23713653 0.23736751 0.23759435 0.23781706 0.23803586\n",
            " 0.2382507  0.23846178 0.23866905 0.23887256 0.23907247 0.23926887\n",
            " 0.23946173 0.23965117 0.23983726 0.2400201  0.24019961 0.24037594\n",
            " 0.24054916 0.24071933 0.24088648 0.24105069 0.24121197 0.24121197\n",
            " 0.24121197 0.24121197 0.24121197 0.24121197 0.24121197 0.24121197\n",
            " 0.24121197 0.24121197 0.24121197 0.24121197 0.24121197 0.24121197\n",
            " 0.24121197 0.24121197 0.24121197 0.24121197 0.24121197 0.24121197\n",
            " 0.24121197 0.24121197 0.24121197 0.24121197 0.24121197 0.24121197\n",
            " 0.24121197 0.24121197 0.24121197 0.24121197 0.24121197 0.24523483\n",
            " 0.24718572 0.24972102 0.25230625 0.25480756 0.25719455 0.25946546\n",
            " 0.26163116 0.26370755 0.26571047 0.26765215 0.26954046 0.27137911\n",
            " 0.27316925 0.2749103  0.27660176 0.27824369 0.27983695 0.2813839\n",
            " 0.28288767 0.28435212 0.2857815  0.28717998 0.28855172 0.28990054\n",
            " 0.2912297  0.29254216 0.29384047 0.29512674]\n",
            "30 day output [[0.29640266]]\n",
            "[[0.24523483216762543], [0.24718572199344635], [0.24972102046012878], [0.2523062527179718], [0.25480756163597107], [0.25719454884529114], [0.25946545600891113], [0.26163116097450256], [0.26370754837989807], [0.2657104730606079], [0.26765215396881104], [0.2695404589176178], [0.27137911319732666], [0.27316924929618835], [0.2749103009700775], [0.27660176157951355], [0.27824369072914124], [0.2798369526863098], [0.2813839018344879], [0.28288766741752625], [0.2843521237373352], [0.28578150272369385], [0.28717997670173645], [0.2885517179965973], [0.289900541305542], [0.2912296950817108], [0.29254215955734253], [0.2938404679298401], [0.295126736164093], [0.2964026629924774]]\n"
          ]
        }
      ]
    },
    {
      "cell_type": "code",
      "metadata": {
        "colab": {
          "base_uri": "https://localhost:8080/",
          "height": 282
        },
        "id": "Zv6QjJZ42YDk",
        "outputId": "ddfc5a36-6297-45e3-e3ed-da93e425e9c0"
      },
      "source": [
        "stock_data = stock_data1.tolist()\n",
        "stock_data.extend(final_output)\n",
        "stock_data = scaler.inverse_transform(stock_data).tolist()\n",
        "plt.plot(stock_data)"
      ],
      "execution_count": 56,
      "outputs": [
        {
          "output_type": "execute_result",
          "data": {
            "text/plain": [
              "[<matplotlib.lines.Line2D at 0x7fdf4dd8ebd0>]"
            ]
          },
          "metadata": {},
          "execution_count": 56
        },
        {
          "output_type": "display_data",
          "data": {
            "image/png": "[encoded data removed]",
            "text/plain": [
              "<Figure size 432x288 with 1 Axes>"
            ]
          },
          "metadata": {
            "needs_background": "light"
          }
        }
      ]
    }
  ]
}